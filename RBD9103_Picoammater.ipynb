{
 "cells": [
  {
   "cell_type": "markdown",
   "metadata": {},
   "source": [
    "# Communicating with the RBD 9103 Picoammeter in Python"
   ]
  },
  {
   "cell_type": "markdown",
   "metadata": {},
   "source": [
    "#### Version 1 -  18/08/2015"
   ]
  },
  {
   "cell_type": "markdown",
   "metadata": {},
   "source": [
    "## Getting Set Up\n",
    "\n",
    "Please read this in consultation with the user manual.\n",
    "\n",
    "The picoammeter can be accessed as a serial device on the PC by reading/writing text commands, or by using the *Actual* software that comes with it. The *Actuel* software includes a console that can be used to write and read commands. Alternatively I used the *termite* (http://www.compuphase.com/software_termite.htm) for testing.\n",
    "\n",
    "to use in termite or Python we must first find out what COM port it is on. Do this by looking for *FT232R USB UART* in Windows (7) *Devices and Printers*, double click on it and select *Hardware* and we see the COM port (COM3 when I tested this one). "
   ]
  },
  {
   "cell_type": "markdown",
   "metadata": {},
   "source": [
    "## Configuration and Essential Commands\n",
    "\n",
    "To establish serial communications with the device we need to have the right settings, from the manual (*Communications and Command Reference*):\n",
    "\n",
    "| Setting | Value |\n",
    "|---------|-------|\n",
    "| Bits per Second (Baud Rate) | 57600 |\n",
    "| Data Bits | 8 |\n",
    "| Parity | None |\n",
    "| Stop Bits | 1 |\n",
    "| Flow Control | None | "
   ]
  },
  {
   "cell_type": "markdown",
   "metadata": {},
   "source": [
    "The most useful commands for talking to the device are:\n",
    "\n",
    "| Command | Use |\n",
    "|---------|-----|\n",
    "| &Q      | Query Current Configuration (returns multiple lines) | \n",
    "| &RX     | Set range, 0 is auto range, for others see manual |\n",
    "| &FXXX   | Sets the filter time constant - maybe leave at default|\n",
    "| &S      | Reguest a sample |\n",
    "| &VX     | Set number of digits (5, 6, 7 or 8), Default is 5 |\n",
    "\n",
    "For other commands see the manual."
   ]
  },
  {
   "cell_type": "markdown",
   "metadata": {},
   "source": [
    "## Using Python\n",
    "\n",
    "### PySerial\n",
    "\n",
    "To communicate with a serial device in Python we wil use PySerial. If not installed install with \n",
    "\n",
    "    conda install pyserial \n",
    "    \n",
    "The code below shows how to import pyserial and set up a connection. It is essential to set the timeout as well as otherwise if you try to read the device and it has no data it will block indefinitely."
   ]
  },
  {
   "cell_type": "code",
   "execution_count": 1,
   "metadata": {
    "collapsed": false
   },
   "outputs": [],
   "source": [
    "import serial\n",
    "ser=serial.Serial('com3',\n",
    "                 baudrate=57600,\n",
    "                 bytesize=serial.EIGHTBITS,\n",
    "                 parity=serial.PARITY_NONE,\n",
    "                 stopbits=serial.STOPBITS_ONE,\n",
    "                 xonxoff=False,\n",
    "                 timeout=1)"
   ]
  },
  {
   "cell_type": "markdown",
   "metadata": {},
   "source": [
    "### Strings and byte arrays\n",
    "\n",
    "Arrays of bytes are sent to and read from the device. Thus strings must be converted to bytes and vice-versa. To convert a string to bytes use:\n",
    "\n",
    "    bytes(string_name,'utf-8') \n",
    "\n",
    "where 'utf-8' is a common string encoding.\n",
    "\n",
    "Similarly to convert bytes to a string use:\n",
    "\n",
    "    .decode('utf-8')\n",
    "\n",
    "on the bytes array. Examples below will make clearer.\n",
    "\n",
    "Useful helper function:"
   ]
  },
  {
   "cell_type": "code",
   "execution_count": 10,
   "metadata": {
    "collapsed": true
   },
   "outputs": [],
   "source": [
    "def data(mystring):\n",
    "    return bytes(mystring,'utf-8')"
   ]
  },
  {
   "cell_type": "markdown",
   "metadata": {},
   "source": [
    "### Writing to and reading from the device\n",
    "\n",
    "Write a command with the PySerial <code> write() </code> command.\n",
    "Note: ** It is essential to end every write to the device with a newline **\n",
    "\n",
    "After each write use <code> readline() </code> or <code> readlines() </code> to read back the decive's response, even if you are just setting some parameter (like the range). \n",
    "\n",
    "Notes:\n",
    "\n",
    "<code> readline() </code> Read a line which is terminated with end-of-line (eol) character (\\n by default) or until timeout.\n",
    "\n",
    "<code> readlines() </code> Read a list of lines, until timeout. sizehint is ignored and only present for API compatibility with built-in File objects. Note that this function only returns on a timeout.\n",
    "\n",
    "The byte arrays/strings returned are terminated by carriage returns (\\r) and newlines (\\n)"
   ]
  },
  {
   "cell_type": "markdown",
   "metadata": {},
   "source": [
    "### Examples:"
   ]
  },
  {
   "cell_type": "code",
   "execution_count": 11,
   "metadata": {
    "collapsed": false
   },
   "outputs": [
    {
     "data": {
      "text/plain": [
       "[b'RBD Instruments: PicoAmmeter\\r\\n',\n",
       " b'Firmware Version: 01.37\\r\\n',\n",
       " b'Build: 5-14-13\\r\\n',\n",
       " b'R, Range=AutoR\\r\\n',\n",
       " b'I, sample Interval=0000 mSec\\r\\n',\n",
       " b'L, Chart Log Update Interval=0200 mSec\\r\\n',\n",
       " b'B, BIAS=OFF\\r\\n',\n",
       " b'F, Filter=032\\r\\n',\n",
       " b'V, FormatLen=8\\r\\n',\n",
       " b'CA, Autocal=OFF\\r\\n',\n",
       " b'G, AutoGrounding=DISABLED\\r\\n',\n",
       " b'Q, State=MEASURE\\r\\n',\n",
       " b'P, PID=Pico1     \\r\\n']"
      ]
     },
     "execution_count": 11,
     "metadata": {},
     "output_type": "execute_result"
    }
   ],
   "source": [
    "# Example: get current configuration\n",
    "ser.write(data('&Q\\n'))\n",
    "ser.readlines()"
   ]
  },
  {
   "cell_type": "code",
   "execution_count": 12,
   "metadata": {
    "collapsed": false
   },
   "outputs": [
    {
     "data": {
      "text/plain": [
       "b'&R, Range=AutoR\\r\\n'"
      ]
     },
     "execution_count": 12,
     "metadata": {},
     "output_type": "execute_result"
    }
   ],
   "source": [
    "# Example: put in autorange\n",
    "\n",
    "ser.write(data('&R0\\n')) # put in autorange\n",
    "ser.readline()"
   ]
  },
  {
   "cell_type": "code",
   "execution_count": 13,
   "metadata": {
    "collapsed": false
   },
   "outputs": [
    {
     "data": {
      "text/plain": [
       "b'&V, FormatLen=8\\r\\n'"
      ]
     },
     "execution_count": 13,
     "metadata": {},
     "output_type": "execute_result"
    }
   ],
   "source": [
    "# Example: Set number of Digits\n",
    "\n",
    "ser.write(data('&V8\\n')) # 8 decimal places\n",
    "ser.readline()"
   ]
  },
  {
   "cell_type": "markdown",
   "metadata": {},
   "source": [
    "### Reading current samples.\n",
    "\n",
    "When the <code> &S </code> is sent the device returns a byte array that contains information (comma separated) on the range, the current and the scale. This byte array will have to be converted to a string, have the trailing \\r and \\n removed, split and then converted into an appropriate numberic value.\n",
    "\n",
    "The allowed ranges are 'nA, 'uA', 'mA', so the range will have to be checked and the numeric value multiplied by the appropriate scale factor.\n",
    "\n",
    "The first part of the returned command is usually '&S=' but unstable values are reported with an asterix, e,g.\n",
    "\n",
    "    &S*,Range=002mA,+0.0009572,mA \n",
    "The manual states that after changing the range it may take a few readings before the readings are stable and accurate.\n",
    "\n",
    "Also, over-range status is indicated by a '>' and under-range status by a '<' after the '&S', so one should always check the first character after the '&S' to determine the trustworthyness of the results, and perhaps re-read or change the scale (if not on autoranging)."
   ]
  },
  {
   "cell_type": "code",
   "execution_count": 16,
   "metadata": {
    "collapsed": false,
    "scrolled": true
   },
   "outputs": [
    {
     "name": "stdout",
     "output_type": "stream",
     "text": [
      "&S=,Range=002nA,+0.0023719,nA\n"
     ]
    }
   ],
   "source": [
    "# Example: request a sample:\n",
    "\n",
    "ser.write(data('&S\\n'))\n",
    "ans=ser.readline().decode('utf-8').rstrip() # convert bytes to string and remove trailing newline and CR\n",
    "print(ans)"
   ]
  },
  {
   "cell_type": "code",
   "execution_count": 17,
   "metadata": {
    "collapsed": false
   },
   "outputs": [
    {
     "data": {
      "text/plain": [
       "['&S=', 'Range=002nA', '+0.0023719', 'nA']"
      ]
     },
     "execution_count": 17,
     "metadata": {},
     "output_type": "execute_result"
    }
   ],
   "source": [
    "ans.split(',')"
   ]
  },
  {
   "cell_type": "code",
   "execution_count": null,
   "metadata": {
    "collapsed": true
   },
   "outputs": [],
   "source": []
  }
 ],
 "metadata": {
  "kernelspec": {
   "display_name": "Python 3",
   "language": "python",
   "name": "python3"
  },
  "language_info": {
   "codemirror_mode": {
    "name": "ipython",
    "version": 3
   },
   "file_extension": ".py",
   "mimetype": "text/x-python",
   "name": "python",
   "nbconvert_exporter": "python",
   "pygments_lexer": "ipython3",
   "version": "3.4.3"
  }
 },
 "nbformat": 4,
 "nbformat_minor": 0
}
