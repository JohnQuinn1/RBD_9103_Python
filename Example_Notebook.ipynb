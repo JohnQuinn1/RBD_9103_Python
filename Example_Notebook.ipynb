{
 "metadata": {
  "name": "",
  "signature": "sha256:bc107f4ff6e2ec897eca7f0f540690d68f674b433b6c205bb41d33e39bd8db1c"
 },
 "nbformat": 3,
 "nbformat_minor": 0,
 "worksheets": [
  {
   "cells": [
    {
     "cell_type": "heading",
     "level": 1,
     "metadata": {},
     "source": [
      "Labs. Demonstration Notebook"
     ]
    },
    {
     "cell_type": "heading",
     "level": 5,
     "metadata": {},
     "source": [
      "John Quinn, September 2014"
     ]
    },
    {
     "cell_type": "markdown",
     "metadata": {},
     "source": [
      "-----\n",
      "This is a demonstration of an IPython Notebook.\n",
      "\n",
      "The demonstration shows how to use Numpy, Matplotlib and some Markdown and LaTex formatting.\n",
      "\n",
      "If you want to run convert this document to LaTex then do **not** use *Heading 6* as this casues LaTex to fail. To convert to LaTex use the command:\n",
      "\n",
      "    ipython notebook --to latex --post pdf demo.ipynb"
     ]
    },
    {
     "cell_type": "heading",
     "level": 5,
     "metadata": {},
     "source": [
      "Example Markdown and LaTex:"
     ]
    },
    {
     "cell_type": "markdown",
     "metadata": {},
     "source": [
      "[\"Markdown\"](http://daringfireball.net/projects/markdown/) is a text to html tool that allows easy formatting of notebook cells. Within a cell html code and LaTex can be directly embedded. The equation we will use, $y=mx+c$ can also be embedded as $$y=mx+c$$ or\n",
      "\\begin{equation}\n",
      "y=mx+c\n",
      "\\end{equation}"
     ]
    },
    {
     "cell_type": "heading",
     "level": 2,
     "metadata": {},
     "source": [
      "Example Problem:"
     ]
    },
    {
     "cell_type": "markdown",
     "metadata": {},
     "source": [
      "The example is to take the data shown in the table below and to plot it, fit a line, and calculate the errors on the fit parameters. The data set to be plotted:\n",
      "\n",
      "| x   | y   |\n",
      "|-----|-----|\n",
      "| 1.0 | 1.8 | \n",
      "| 2.0 | 3.8 |\n",
      "| 3.0 | 4.9 |\n",
      "| 4.0 | 6.0 |\n",
      "| 5.0 | 7.4 |"
     ]
    },
    {
     "cell_type": "heading",
     "level": 5,
     "metadata": {},
     "source": [
      "First, set up for plotting and load numpy.pyplot:"
     ]
    },
    {
     "cell_type": "code",
     "collapsed": false,
     "input": [
      "%matplotlib inline\n",
      "\n",
      "import matplotlib.pyplot as plt\n",
      "\n",
      "# change default Matplotlib figure settings for the eniter document.\n",
      "#plt.rcParams['savefig.dpi'] =100\n",
      "#plt.rcParams['figure.figsize']=(8,5) # make figure 10x6 \n",
      "#plt.rcParams['font.size']=12"
     ],
     "language": "python",
     "metadata": {},
     "outputs": [],
     "prompt_number": 5
    },
    {
     "cell_type": "heading",
     "level": 5,
     "metadata": {},
     "source": [
      "Now make numpy arrays and plot data"
     ]
    },
    {
     "cell_type": "code",
     "collapsed": false,
     "input": [
      "import numpy as np\n",
      "\n",
      "x=np.array((1, 2, 3, 4, 5))\n",
      "y=np.array((1.8, 3.8, 4.9, 6, 7.4))\n",
      "\n",
      "plt.plot(x,y,'ro') # plot with red circles for points. Use 'ro-' to join points with lines.\n",
      "plt.axis((0,6,0,10)) # optional - if you don't like the default axes limits\n",
      "\n",
      "plt.xlabel('xdata')\n",
      "plt.ylabel('ydata')\n",
      "plt.title('My Data');"
     ],
     "language": "python",
     "metadata": {},
     "outputs": [
      {
       "metadata": {},
       "output_type": "display_data",
       "png": "[encoded data removed]",
       "text": [
        "<matplotlib.figure.Figure at 0x107b69a58>"
       ]
      }
     ],
     "prompt_number": 6
    },
    {
     "cell_type": "heading",
     "level": 5,
     "metadata": {},
     "source": [
      "Fitting the data..."
     ]
    },
    {
     "cell_type": "markdown",
     "metadata": {},
     "source": [
      "Now fit a straight line of form $y=mx+c$ to the data using `curve_fit()` from `scipy.optimize`\n",
      "\n",
      "-----\n",
      "\n",
      "`curve_fit()` usage:\n",
      "\n",
      "```python\n",
      "pars, cov = curve_fit(fitfnc,x,y)\n",
      "```\n",
      "where `fitfnc` is the function to be fit to the data set `x, y`.\n",
      " \n",
      "`curve_fit()` returns two items - an array and a matrix. The first item, the array, contains the best-fit parameters and the second item is the covariance matrix, from which the errors on the paramters can be estimated. "
     ]
    },
    {
     "cell_type": "code",
     "collapsed": false,
     "input": [
      "from scipy.optimize import curve_fit\n",
      "\n",
      "# define fit function\n",
      "def fitfnc(x,m,c):\n",
      "    return m*x+c\n",
      "\n",
      "pars, cov = curve_fit(fitfnc,x,y)\n",
      "\n",
      "# pars contains the fitted parameters...\n",
      "pars"
     ],
     "language": "python",
     "metadata": {},
     "outputs": [
      {
       "metadata": {},
       "output_type": "pyout",
       "prompt_number": 7,
       "text": [
        "array([ 1.34,  0.76])"
       ]
      }
     ],
     "prompt_number": 7
    },
    {
     "cell_type": "heading",
     "level": 5,
     "metadata": {},
     "source": [
      "\n",
      "Now plot data again and overlay fitted line..."
     ]
    },
    {
     "cell_type": "code",
     "collapsed": false,
     "input": [
      "plt.plot(x,y,'ro') \n",
      "plt.plot(x,fitfnc(x,*pars),'b-') # blue line\n",
      "plt.axis((0,6,0,9))\n",
      "\n",
      "plt.xlabel('xdata')\n",
      "plt.ylabel('ydata')\n",
      "plt.title(r'My Data + Linear Fit: $y=mx+c$');"
     ],
     "language": "python",
     "metadata": {},
     "outputs": [
      {
       "metadata": {},
       "output_type": "display_data",
       "png": "[encoded data removed]",
       "text": [
        "<matplotlib.figure.Figure at 0x108f696a0>"
       ]
      }
     ],
     "prompt_number": 8
    },
    {
     "cell_type": "code",
     "collapsed": false,
     "input": [],
     "language": "python",
     "metadata": {},
     "outputs": [],
     "prompt_number": 8
    }
   ],
   "metadata": {}
  }
 ]
}