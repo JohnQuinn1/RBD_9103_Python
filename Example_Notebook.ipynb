{
 "cells": [
  {
   "cell_type": "markdown",
   "metadata": {},
   "source": [
    "# Labs. Demonstration Notebook\n",
    "\n",
    "### John Quinn, September 2015\n",
    "\n",
    "-----\n",
    "This is a demonstration of an *IPython Notebook*.\n",
    "\n",
    "The demonstration shows how to use **Numpy, Matplotlib and some Markdown and LaTex formatting**.\n",
    "\n",
    "If you want to run convert this document to LaTex then do **NOT** use *Heading 6* as this causes LaTex to fail. To convert to LaTex use the command:\n",
    "\n",
    "    ipython notebook --to latex --post pdf demo.ipynb\n",
    "\n",
    "or use the `File->Download As->PDF` option."
   ]
  },
  {
   "cell_type": "markdown",
   "metadata": {},
   "source": [
    "##### Example Markdown and LaTex:\n",
    "\n",
    "[\"Markdown\"](http://daringfireball.net/projects/markdown/) is a text to html tool that allows easy formatting of notebook cells. Within a cell html code and LaTex can be directly embedded. The equation we will use, $y=mx+c$ can also be embedded as $$y=mx+c$$ or\n",
    "\\begin{equation}\n",
    "y=mx+c\n",
    "\\end{equation}"
   ]
  },
  {
   "cell_type": "markdown",
   "metadata": {},
   "source": [
    "#### Example code:\n",
    "\n",
    "    import numpy as np\n",
    "    x=np.arange(100)\n",
    "\n"
   ]
  },
  {
   "cell_type": "markdown",
   "metadata": {},
   "source": [
    "#### Example list:\n",
    "* one\n",
    "* two\n",
    "theee"
   ]
  },
  {
   "cell_type": "markdown",
   "metadata": {},
   "source": [
    "## Example Problem:"
   ]
  },
  {
   "cell_type": "markdown",
   "metadata": {},
   "source": [
    "The example is to take the data shown in the table below and to plot it, fit a line, and calculate the errors on the fit parameters. The data set to be plotted:\n",
    "\n",
    "| x   | y   |\n",
    "|-----|-----|\n",
    "| 1.0 | 1.8 | \n",
    "| 2.0 | 3.8 |\n",
    "| 3.0 | 4.9 |\n",
    "| 4.0 | 6.0 |\n",
    "| 5.0 | 7.4 |"
   ]
  },
  {
   "cell_type": "markdown",
   "metadata": {},
   "source": [
    "##### First, set up for plotting and load numpy.pyplot:"
   ]
  },
  {
   "cell_type": "code",
   "execution_count": 15,
   "metadata": {
    "collapsed": false
   },
   "outputs": [],
   "source": [
    "%matplotlib inline\n",
    "\n",
    "# matplotlib notebook appears to be buggy\n",
    "\n",
    "import matplotlib.pyplot as plt\n",
    "\n",
    "# change default Matplotlib figure settings for the entire document.\n",
    "# Defaults can also be changed in a configuration file\n",
    "\n",
    "#plt.rcParams['savefig.dpi'] =100\n",
    "#plt.rcParams['figure.figsize']=(8,5) # make figure 10x6 \n",
    "#plt.rcParams['font.size']=16"
   ]
  },
  {
   "cell_type": "markdown",
   "metadata": {},
   "source": [
    "##### Now make numpy arrays and plot data"
   ]
  },
  {
   "cell_type": "code",
   "execution_count": 16,
   "metadata": {
    "collapsed": false
   },
   "outputs": [
    {
     "data": {
      "image/png": "[encoded data removed]",
      "text/plain": [
       "<matplotlib.figure.Figure at 0x108d5ab70>"
      ]
     },
     "metadata": {},
     "output_type": "display_data"
    }
   ],
   "source": [
    "import numpy as np\n",
    "\n",
    "x=np.array((1, 2, 3, 4, 5))\n",
    "y=np.array((1.8, 3.8, 4.9, 6, 7.4))\n",
    "\n",
    "\n",
    "#f=plt.figure(figsize=[8,6])  # Optional command to set figure size\n",
    "\n",
    "plt.plot(x,y,'ro') # plot with red circles for points. Use 'ro-' to join points with lines.\n",
    "plt.axis((0,6,0,10)) # optional - if you don't like the default axes limits\n",
    "\n",
    "plt.xlabel('xdata')\n",
    "plt.ylabel('ydata')\n",
    "plt.title('My Data');"
   ]
  },
  {
   "cell_type": "markdown",
   "metadata": {},
   "source": [
    "##### Fitting the data...\n",
    "\n",
    "Now fit a straight line of form $y=mx+c$ to the data using `curve_fit()` from `scipy.optimize`\n",
    "\n",
    "-----\n",
    "\n",
    "`curve_fit()` usage:\n",
    "\n",
    "```python\n",
    "pars, cov = curve_fit(fitfnc,x,y)\n",
    "```\n",
    "where `fitfnc` is the function to be fit to the data set `x, y`.\n",
    " \n",
    "`curve_fit()` returns two items - an array and a matrix. The first item, the array, contains the best-fit parameters and the second item is the covariance matrix, from which the errors on the paramters can be estimated. "
   ]
  },
  {
   "cell_type": "code",
   "execution_count": 17,
   "metadata": {
    "collapsed": false
   },
   "outputs": [
    {
     "data": {
      "text/plain": [
       "array([ 1.34,  0.76])"
      ]
     },
     "execution_count": 17,
     "metadata": {},
     "output_type": "execute_result"
    }
   ],
   "source": [
    "from scipy.optimize import curve_fit\n",
    "\n",
    "# define fit function\n",
    "def fitfnc(x,m,c):\n",
    "    return m*x+c\n",
    "\n",
    "pars, cov = curve_fit(fitfnc,x,y)\n",
    "\n",
    "# pars contains the fitted parameters...\n",
    "pars"
   ]
  },
  {
   "cell_type": "markdown",
   "metadata": {},
   "source": [
    "#####  Now plot data again and overlay fitted line..."
   ]
  },
  {
   "cell_type": "code",
   "execution_count": 18,
   "metadata": {
    "collapsed": false
   },
   "outputs": [
    {
     "data": {
      "image/png": "[encoded data removed]",
      "text/plain": [
       "<matplotlib.figure.Figure at 0x109dfa940>"
      ]
     },
     "metadata": {},
     "output_type": "display_data"
    }
   ],
   "source": [
    "plt.plot(x,y,'ro') \n",
    "plt.plot(x,fitfnc(x,*pars),'b-') # blue line\n",
    "plt.axis((0,6,0,9))\n",
    "\n",
    "plt.xlabel('xdata')\n",
    "plt.ylabel('ydata')\n",
    "plt.title(r'My Data + Linear Fit: $y=mx+c$');"
   ]
  }
 ],
 "metadata": {
  "kernelspec": {
   "display_name": "Python 3",
   "language": "python",
   "name": "python3"
  },
  "language_info": {
   "codemirror_mode": {
    "name": "ipython",
    "version": 3
   },
   "file_extension": ".py",
   "mimetype": "text/x-python",
   "name": "python",
   "nbconvert_exporter": "python",
   "pygments_lexer": "ipython3",
   "version": "3.4.3"
  }
 },
 "nbformat": 4,
 "nbformat_minor": 0
}
